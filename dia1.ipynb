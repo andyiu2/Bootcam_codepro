{
 "cells": [
  {
   "cell_type": "markdown",
   "id": "1b3619b6",
   "metadata": {},
   "source": [
    "## Python "
   ]
  },
  {
   "cell_type": "code",
   "execution_count": 1,
   "id": "b09fcb3d",
   "metadata": {},
   "outputs": [
    {
     "name": "stdout",
     "output_type": "stream",
     "text": [
      "Hola mundo\n"
     ]
    }
   ],
   "source": [
    "print(\"Hola mundo\")"
   ]
  },
  {
   "cell_type": "markdown",
   "id": "22aefa46",
   "metadata": {},
   "source": [
    "## Variables"
   ]
  },
  {
   "cell_type": "code",
   "execution_count": 4,
   "id": "73df3aa3",
   "metadata": {},
   "outputs": [
    {
     "name": "stdout",
     "output_type": "stream",
     "text": [
      "Andy\n"
     ]
    }
   ],
   "source": [
    "nombre = \"Andy\"\n",
    "print(nombre)"
   ]
  },
  {
   "cell_type": "markdown",
   "id": "32649d41",
   "metadata": {},
   "source": [
    "## Tipos de Variables"
   ]
  },
  {
   "cell_type": "code",
   "execution_count": null,
   "id": "736c49e3",
   "metadata": {},
   "outputs": [],
   "source": [
    "fruta = \"naranja\" # -> string\n",
    "print(\"fruta\")\n",
    "\n",
    "cant_fruta = 5 # -> int\n",
    "print(fruta)\n",
    "\n",
    "precio = 5,50 # -> float\n",
    "print(precio)\n",
    "\n"
   ]
  },
  {
   "cell_type": "markdown",
   "id": "30e96b28",
   "metadata": {},
   "source": [
    "## 1er Challenge\n"
   ]
  },
  {
   "cell_type": "code",
   "execution_count": 1,
   "id": "bc2a69c3",
   "metadata": {},
   "outputs": [
    {
     "name": "stdout",
     "output_type": "stream",
     "text": [
      "Andrea\n",
      "21\n",
      "Ita\n"
     ]
    }
   ],
   "source": [
    "nombre = \"Andrea\"\n",
    "edad = 21\n",
    "ciudad = \"Ita\" \n",
    "\n",
    "print(nombre)\n",
    "print(edad)\n",
    "print(ciudad)"
   ]
  },
  {
   "cell_type": "markdown",
   "id": "8c519913",
   "metadata": {},
   "source": [
    "## 2do Challenge"
   ]
  },
  {
   "cell_type": "code",
   "execution_count": 8,
   "id": "336e8e13",
   "metadata": {},
   "outputs": [
    {
     "name": "stdout",
     "output_type": "stream",
     "text": [
      "Manzanas: 5 - Naranjas: 10\n",
      "La Cantidad total de frutas es: 15\n",
      "se vendieron  7 frutas en total y sobraron 8\n"
     ]
    }
   ],
   "source": [
    "# SUMA\n",
    "cantidad_de_manzanas = 5\n",
    "cantidad_de_naranjas = 10\n",
    "cantidad_de_frutas = cantidad_de_manzanas + cantidad_de_naranjas\n",
    "print(\"Manzanas:\", cantidad_de_manzanas, \"-\", \"Naranjas:\", cantidad_de_naranjas)\n",
    "print(\"La Cantidad total de frutas es:\", cantidad_de_frutas )\n",
    "\n",
    "#RESTA\n",
    "frutas_vendidas = 7\n",
    "frutas_restantes = cantidad_de_frutas - frutas_vendidas\n",
    "print(\"se vendieron \", frutas_vendidas, \"frutas en total\", \"y sobraron\", frutas_restantes)"
   ]
  },
  {
   "cell_type": "markdown",
   "id": "c778800c",
   "metadata": {},
   "source": [
    "## 3er Challenge\n",
    "Asignar el nombre y el apellido de tu compañera/o a las variables nombre y apellido. Luego, imprimir una frase, utilizando las variables.\n",
    "EJEMPLO: \"Hola. Me llamo Claudia Melgarejo. Mucho gusto.\""
   ]
  },
  {
   "cell_type": "code",
   "execution_count": null,
   "id": "470ba5cd",
   "metadata": {},
   "outputs": [
    {
     "name": "stdout",
     "output_type": "stream",
     "text": [
      "Hola. Me llamo Lujan Ibarra. Mucho gusto :)\n"
     ]
    }
   ],
   "source": [
    "nombre = \"Lujan\"\n",
    "apellido = \"Ibarra\"\n",
    "print(f\"Hola. Me llamo {nombre} {apellido}. Mucho gusto :)\")"
   ]
  },
  {
   "cell_type": "markdown",
   "id": "b2c284fd",
   "metadata": {},
   "source": [
    "## 4to Challenge\n",
    "Solicitar al usuario ingresar dos números y almacenarlos en dos variables. Luego, imprimir la suma de los dos números."
   ]
  },
  {
   "cell_type": "code",
   "execution_count": null,
   "id": "7735ce7d",
   "metadata": {},
   "outputs": [
    {
     "name": "stdout",
     "output_type": "stream",
     "text": [
      "La suma de los numeros ingresados es: 9\n"
     ]
    }
   ],
   "source": [
    "var1 = int (input(\"Ingrese un nro\"))\n",
    "var2 = int (input(\"Ingrese el siguiente nro\"))\n",
    "suma_var = var1 + var2\n",
    "\n",
    "print(f\"La suma de los numeros ingresados es: {suma_var}\")"
   ]
  },
  {
   "cell_type": "markdown",
   "id": "8ef0a93d",
   "metadata": {},
   "source": [
    "## 5to Challenge\n",
    "Crear una función de un proceso que se les ocurra que tenga varios pasos."
   ]
  },
  {
   "cell_type": "code",
   "execution_count": 3,
   "id": "b2377b32",
   "metadata": {},
   "outputs": [
    {
     "name": "stdout",
     "output_type": "stream",
     "text": [
      "El participante se llama: Josue y quedó en el Puesto 1\n",
      "El participante se llama: Araceli y quedó en el Puesto 2\n",
      "El participante se llama: Andrea  y quedó en el Puesto 3\n"
     ]
    }
   ],
   "source": [
    "# TORNEO\n",
    "#Funcion que pide el nombre del participante y su puesto para posteriormente mostrarlos\n",
    "def torneo():\n",
    "    nombre = input((\"Ingrese su nombre\"))\n",
    "    puesto = input((\"Ingrese el puesto en el que quedo (EJEMPLO: Puesto 1 | Puesto 2 | Puesto 3)\"))\n",
    "    print(f\"El participante se llama: {nombre} y quedó en el {puesto}\")\n",
    "\n",
    "torneo()\n",
    "torneo()\n",
    "torneo()"
   ]
  },
  {
   "cell_type": "markdown",
   "id": "a58a1856",
   "metadata": {},
   "source": [
    "## 6to Challenge\n"
   ]
  },
  {
   "cell_type": "code",
   "execution_count": 39,
   "id": "348db956",
   "metadata": {},
   "outputs": [
    {
     "name": "stdout",
     "output_type": "stream",
     "text": [
      "Usted esta comprando 5 vasos \n"
     ]
    }
   ],
   "source": [
    "# Funcion con parametros y argumentos\n",
    "def compra_detalle(producto):\n",
    "    cant =  input(\"Ingrese cuantos productos desea comprar\")\n",
    "    print(f\"Usted esta comprando {cant} {producto} \")\n",
    "\n",
    "\n",
    "compra_detalle(\"vasos\")"
   ]
  }
 ],
 "metadata": {
  "kernelspec": {
   "display_name": "Python 3",
   "language": "python",
   "name": "python3"
  },
  "language_info": {
   "codemirror_mode": {
    "name": "ipython",
    "version": 3
   },
   "file_extension": ".py",
   "mimetype": "text/x-python",
   "name": "python",
   "nbconvert_exporter": "python",
   "pygments_lexer": "ipython3",
   "version": "3.11.6"
  }
 },
 "nbformat": 4,
 "nbformat_minor": 5
}
