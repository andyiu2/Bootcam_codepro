{
 "cells": [
  {
   "cell_type": "markdown",
   "id": "58d8e4bb",
   "metadata": {},
   "source": [
    "## Challenge 1 🤺 - 15m\n",
    "Crear una función que imprima la variable palabra."
   ]
  },
  {
   "cell_type": "code",
   "execution_count": null,
   "id": "068cf91b",
   "metadata": {},
   "outputs": [
    {
     "name": "stdout",
     "output_type": "stream",
     "text": [
      "hola\n"
     ]
    }
   ],
   "source": [
    "\n",
    "\n",
    "def imprimir_variable():\n",
    "    palabra = \"hola\"\n",
    "    print(palabra)\n",
    " \n",
    "imprimir_variable()"
   ]
  },
  {
   "cell_type": "markdown",
   "id": "a3cd0077",
   "metadata": {},
   "source": [
    "## Challenge 2 🤺 - 20 min\n",
    "Crear una función que reciba dos letras (parámetros) y que verifique si son iguales:\n",
    "\n",
    "Si son iguales, imprimir \"Las letras son iguales\".\n",
    "\n",
    "De lo contrario, imprimir \"Las letras son diferentes\"."
   ]
  },
  {
   "cell_type": "code",
   "execution_count": 10,
   "id": "8d34432f",
   "metadata": {},
   "outputs": [
    {
     "name": "stdout",
     "output_type": "stream",
     "text": [
      "Las letras son diferentes\n"
     ]
    }
   ],
   "source": [
    "def comparar_letras(letra1,letra2):\n",
    "    \n",
    "    if letra1 == letra2:\n",
    "        print(\"Las letras son iguales\")\n",
    "    else:\n",
    "        print(\"Las letras son diferentes\")\n",
    "\n",
    "caracter1 = input(\"Ingrese una letra\")\n",
    "caracter2 = input(\"Ingrese otra letra\")\n",
    "\n",
    "comparar_letras(caracter1, caracter2)\n",
    "\n"
   ]
  },
  {
   "cell_type": "markdown",
   "id": "6a833e9e",
   "metadata": {},
   "source": [
    "## Challenge\n",
    "Crear una función que reciba dos parámetros (una palabra y un número), y que retorne True si el número es igual a la cantidad de letras de la palabra. En caso contrario, que retorne False.\n",
    "\n",
    "Pista: cantidad de letras de una palabra en python"
   ]
  },
  {
   "cell_type": "code",
   "execution_count": 4,
   "id": "e1b95654",
   "metadata": {},
   "outputs": [
    {
     "name": "stdout",
     "output_type": "stream",
     "text": [
      "True\n"
     ]
    }
   ],
   "source": [
    "def verificar_cantidad_de_letras(palabra, numero):\n",
    "    cantidad_de_letras = numero == len(palabra)\n",
    "\n",
    "    if cantidad_de_letras:\n",
    "        return \"True\"\n",
    "    else:\n",
    "        return \"False\"\n",
    "\n",
    "resultado = verificar_cantidad_de_letras(\"cinco\", 5)\n",
    "print(resultado)"
   ]
  },
  {
   "cell_type": "markdown",
   "id": "9b429972",
   "metadata": {},
   "source": [
    "## Challenge\n",
    "Pedir al usuario que ingrese 1 palabra, luego convertir esa palabra a una lista con sus caracteres con list(). Agregar esa lista de caracteres a una lista llamada palabras_ingresadas. Repetir el proceso 3 veces. Cada vez que se agregue una lista de caracteres, imprimir la lista palabras_ingresadas.\n",
    "\n",
    "\n",
    "Ejemplo del resultado esperado:\n",
    "\n",
    "[['c', 'i', 'e', 'l', 'o']]\n",
    " # Al ingresar la primera palabra\n",
    "\n",
    "[['c', 'i', 'e', 'l', 'o'], ['c', 'a', 'l', 'o', 'r']]\n",
    " # Al ingresar la segunda palabra\n",
    "\n",
    "[['c', 'i', 'e', 'l', 'o'], ['c', 'a', 'l', 'o', 'r'], ['n', 'u', 'b', 'e', 's']]\n",
    " # Al ingresar la tercera palabra"
   ]
  },
  {
   "cell_type": "code",
   "execution_count": null,
   "id": "04a523f4",
   "metadata": {},
   "outputs": [
    {
     "name": "stdout",
     "output_type": "stream",
     "text": [
      "[['c', 'i', 'e', 'l', 'o']]\n",
      "[['c', 'i', 'e', 'l', 'o'], ['n', 'u', 'b', 'e', 's']]\n",
      "[['c', 'i', 'e', 'l', 'o'], ['n', 'u', 'b', 'e', 's'], ['s', 'o', 'l']]\n"
     ]
    }
   ],
   "source": [
    "lista_palabras_ingresadas = []\n",
    "\n",
    "for i in range(3): \n",
    "    palabra_ingresada_usuario = input(\"Ingrese la primera palabra\")\n",
    "    lista_de_caracteres = list(palabra_ingresada_usuario)\n",
    "    lista_palabras_ingresadas.append(lista_de_caracteres)\n",
    "    print(lista_palabras_ingresadas)"
   ]
  },
  {
   "cell_type": "markdown",
   "id": "c990789a",
   "metadata": {},
   "source": [
    "## Challenge 6 🤺 - 25m\n",
    "Dada la lista de ejemplo: \n",
    "\n",
    "lista = [['h', 'o', 'l', 'i', 's'], ['h', 'e', 'l', 'l', 'o'], ['h', 'a', 'l', 'l', 'o']]\n",
    "\n",
    "Crear una función que imprima una grilla (lista de listas), una línea por cada lista dentro de la lista principal.\n",
    "\n",
    "Ejemplo del resultado esperado:\n",
    "\n",
    "\n",
    "['h', 'o', 'l', 'i', 's']\n",
    "['h', 'e', 'l', 'l', 'o']\n",
    "['h', 'a', 'l', 'l', 'o']"
   ]
  },
  {
   "cell_type": "code",
   "execution_count": 32,
   "id": "63c311a3",
   "metadata": {},
   "outputs": [
    {
     "name": "stdout",
     "output_type": "stream",
     "text": [
      "['h', 'o', 'l', 'i', 's']\n",
      "['h', 'e', 'l', 'l', 'o']\n",
      "['h', 'a', 'l', 'l', 'o']\n"
     ]
    }
   ],
   "source": [
    "lista_de_palabras = [['h', 'o', 'l', 'i', 's'], ['h', 'e', 'l', 'l', 'o'], ['h', 'a', 'l', 'l', 'o']]\n",
    "\n",
    "\n",
    "def imprimir_grilla(i):\n",
    "    for i in range(len(lista_de_palabras)):\n",
    "     print(lista_de_palabras[i])\n",
    "\n",
    "imprimir_grilla(i)"
   ]
  },
  {
   "cell_type": "markdown",
   "id": "f374acee",
   "metadata": {},
   "source": [
    "### WORDLE\n",
    "- el jugador tiene 5 intentos\n",
    "- "
   ]
  },
  {
   "cell_type": "code",
   "execution_count": null,
   "id": "c40cf1e8",
   "metadata": {},
   "outputs": [
    {
     "name": "stdout",
     "output_type": "stream",
     "text": [
      "['[p]', '[e]', '[r]', '(r)', 'o']\n",
      "Te quedan 4 intentos\n",
      "\n",
      "['[p]', '(a)', '[r]', '[a]', '(r)']\n",
      "Te quedan 3 intentos\n",
      "\n",
      "['[p]', '[e]', '[r]', '[a]', '[s]']\n",
      "Ganaste!!!\n"
     ]
    }
   ],
   "source": [
    "def obtener_fila_verificada(palabra_a_encontrar, palabra_ingresada):\n",
    "    cantidad_de_letras = 5\n",
    "\n",
    "    letras_verficadas = []\n",
    "\n",
    "    for posicion in range(cantidad_de_letras):\n",
    "        #Si la letra coincide con la posicion\n",
    "        letras_son_iguales = palabra_a_encontrar[posicion] == palabra_ingresada[posicion]\n",
    "\n",
    "        la_letra_existe_en_la_palabra = palabra_ingresada[posicion] in palabra_a_encontrar\n",
    "\n",
    "        if letras_son_iguales:\n",
    "\n",
    "            letras_verficadas.append(\"[\" + palabra_ingresada[posicion] + \"]\")\n",
    "        \n",
    "        elif la_letra_existe_en_la_palabra:\n",
    "            letras_verficadas.append(f\"({palabra_ingresada[posicion]})\")\n",
    "\n",
    "        else:\n",
    "            letras_verficadas.append(palabra_ingresada[posicion])\n",
    "\n",
    "    return letras_verficadas\n",
    "\n",
    "intentos = 0\n",
    "palabra_objetivo = input(\"Ingrese la palabra objetivo:\")\n",
    "\n",
    "while intentos < 5 :\n",
    "    contador = 0\n",
    "    palabra = input(\"Ingrese la palabra:\")\n",
    "    lista = obtener_fila_verificada(palabra_objetivo.upper(),palabra.upper())\n",
    "    print(lista)\n",
    "    for k in range(len(lista)):\n",
    "        if \"[\" in lista[k]:\n",
    "            contador+=1\n",
    "    if contador==5:\n",
    "        print(\"Ganaste!!!\")\n",
    "        break\n",
    "\n",
    "    intentos+=1\n",
    "    print(f\"Te quedan {5-intentos} intentos\\n\")\n",
    "\n",
    "if contador < 5:\n",
    "    print(\"Perdiste!! JAJAJAJAJAJAJ\")\n",
    "    \n",
    "\n"
   ]
  }
 ],
 "metadata": {
  "kernelspec": {
   "display_name": "Python 3",
   "language": "python",
   "name": "python3"
  },
  "language_info": {
   "codemirror_mode": {
    "name": "ipython",
    "version": 3
   },
   "file_extension": ".py",
   "mimetype": "text/x-python",
   "name": "python",
   "nbconvert_exporter": "python",
   "pygments_lexer": "ipython3",
   "version": "3.11.6"
  }
 },
 "nbformat": 4,
 "nbformat_minor": 5
}
