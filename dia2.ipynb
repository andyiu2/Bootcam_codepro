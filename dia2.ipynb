{
 "cells": [
  {
   "cell_type": "markdown",
   "id": "0cb962be",
   "metadata": {},
   "source": [
    "### Repaso\n",
    "- VARIABLES\n",
    "- TIPOS DE DATOS\n",
    "    - str, int, bool, float\n",
    "- OPERADORES ARITMETICOS\n",
    "    - \"+\"\n",
    "    - \"-\"\n",
    "    - \"*\"\n",
    "    - \"/\"\n",
    "    - \"//\"\n",
    "    - \"%\"\n",
    "- CONCATENACION\n",
    "    - \"+\"\n",
    "    - f\n",
    "- FUNCIONES\n",
    "    - def\n",
    "    - parametros\n",
    "    - argumentos\n",
    "- ALCANCE DE VARIABLE (SCOPE)\n",
    "    - Locales\n",
    "    - Globales"
   ]
  },
  {
   "cell_type": "code",
   "execution_count": 1,
   "id": "bb00e15e",
   "metadata": {},
   "outputs": [
    {
     "name": "stdout",
     "output_type": "stream",
     "text": [
      "Verificar caracteristicas del vehiculo\n",
      "Marca: Toyota\n",
      "Color:Negro\n",
      "Nro de chapa: abc123\n",
      "Modelo:ist\n",
      "Retirar vehiculo\n",
      "Cobrar servicio\n",
      "Entregar vehiculo\n"
     ]
    }
   ],
   "source": [
    "def buscar_auto(marca, color, chapa, modelo):\n",
    "    print(\"Verificar caracteristicas del vehiculo\")\n",
    "    print(f\"Marca: {marca}\")\n",
    "    print(f\"Color:{color}\")\n",
    "    print(f\"Nro de chapa: {chapa}\")\n",
    "    print(f\"Modelo:{modelo}\")\n",
    "    print(\"Retirar vehiculo\")\n",
    "    print(\"Cobrar servicio\")\n",
    "    print(\"Entregar vehiculo\")\n",
    "\n",
    "marca_vehiculo = input(\"Ingrese la marca de su vehiculo\")\n",
    "color_vehiculo = input(\"Ingrese el color\")\n",
    "chapa_vehiculo = input(\"Ingrese el numero de chapa\")\n",
    "modelo_vehiculo = input(\"Ingrese el modelo\")\n",
    "\n",
    "buscar_auto(marca_vehiculo, color_vehiculo, chapa_vehiculo, modelo_vehiculo)"
   ]
  },
  {
   "cell_type": "markdown",
   "id": "5e0b058a",
   "metadata": {},
   "source": [
    "## CONDICIONES"
   ]
  },
  {
   "cell_type": "markdown",
   "id": "a4247f15",
   "metadata": {},
   "source": [
    "## Challenge🤺 - 20m\n",
    "Escribe un programa que pregunte al usuario por su edad y determine si tiene edad suficiente para comprar y consumir alcohol.\n",
    "Si el usuario tiene mas de 18 pero menos de 21 impirmir \"Podes tomar pero no comprar\"\n",
    "Si el usuario tiene menos de 18 imprimir \"Juguito nomas\"\n",
    "Si el usuario tiene mas de 21 imprimir \"Hace lo que quieras\""
   ]
  },
  {
   "cell_type": "code",
   "execution_count": 20,
   "id": "508c7d70",
   "metadata": {},
   "outputs": [
    {
     "name": "stdout",
     "output_type": "stream",
     "text": [
      "Juguito nomas\n"
     ]
    }
   ],
   "source": [
    "edad = int(input(\"Ingrese su edad\"))\n",
    "\n",
    "if edad < 18:\n",
    "    print(\"Juguito nomas\")\n",
    "\n",
    "elif edad < 21:\n",
    "    print(\"Podes tomar pero no comprar\")\n",
    "\n",
    "else:\n",
    "    print(\"Hace lo que quieras\")\n"
   ]
  },
  {
   "cell_type": "markdown",
   "id": "3d271e58",
   "metadata": {},
   "source": [
    "## Challenge \n",
    "Escribir un programa en el que se pregunte al usuario por una temperatura (en grados Celsius), imprima la temperatura escrita, y luego clasificar la temperatura ingresada en los siguientes niveles:\n",
    "\n",
    "Entre -10 y 18 grados, que imprima \"Fresquete\".\n",
    "Entre 19 y 30 grados, que imprima \"Calor'i\".\n",
    "Entre 31 y 45 grados, que imprima \"Hakuuuuuu\".\n",
    "Para todo lo demás, imprimir \"Ñamano mba'e!\"."
   ]
  },
  {
   "cell_type": "code",
   "execution_count": 41,
   "id": "d2b0cbd2",
   "metadata": {},
   "outputs": [
    {
     "name": "stdout",
     "output_type": "stream",
     "text": [
      "Temperatura del dia: 55 grados celsius\n",
      "Ñamano mba'e\n"
     ]
    }
   ],
   "source": [
    "temp = int(input(\"Ingrese la temperatura en celsius\"))\n",
    "\n",
    "print(f\"Temperatura del dia: {temp} grados celsius\")\n",
    "\n",
    "if temp >= -10 and temp <= 18:\n",
    "    print(\"Fresquete\")\n",
    "\n",
    "elif temp >=19 and temp <= 30:\n",
    "    print(\"Calor'i\")\n",
    "\n",
    "elif temp >= 31 and temp <= 45:\n",
    "    print(\"Hakuuuuu\")\n",
    "\n",
    "else:\n",
    "    print(\"Ñamano mba'e\")\n"
   ]
  },
  {
   "cell_type": "markdown",
   "id": "678a75b3",
   "metadata": {},
   "source": [
    "## Bucles condicionales\n",
    "While nos permite ejecutar una serie de instrucciones mientras una condicion se cumpla. Al momento que la condicion deje de ser cierta el bucle va a parar."
   ]
  },
  {
   "cell_type": "markdown",
   "id": "8927c262",
   "metadata": {},
   "source": [
    "## Challenge 🤺 - 20m\n",
    "Escribir un programa que almacene una contraseña en una variable, y pregunte al usuario por la contraseña hasta que introduzca la contraseña correcta.\n",
    "\n",
    "Cuando el usuario ingrese la contrasena correcta, imprimir un mensaje secreto."
   ]
  },
  {
   "cell_type": "code",
   "execution_count": 44,
   "id": "138897eb",
   "metadata": {},
   "outputs": [
    {
     "name": "stdout",
     "output_type": "stream",
     "text": [
      "Intente de nuevo\n",
      "Intente de nuevo\n",
      "La contraseña es correcta\n"
     ]
    }
   ],
   "source": [
    "contraseña = \"penguin123\"\n",
    "cont = input(\"Ingrese la contraseña\")\n",
    "\n",
    "while cont != contraseña:\n",
    "    print(\"Intente de nuevo\")\n",
    "    cont = input(\"Vuelva a ingresar la contraseña:\")\n",
    "print(\"La contraseña es correcta\")\n"
   ]
  },
  {
   "cell_type": "markdown",
   "id": "66a66333",
   "metadata": {},
   "source": [
    "## Challenge 🤺 - 20m\n",
    "Crear una lista de 5 elementos. Luego, seguir los siguientes pasos.\n",
    "\n",
    "Agregar un elemento al final de la lista.\n",
    "\n",
    "Modificar el segundo elemento.\n",
    "\n",
    "Eliminar el tercer elemento."
   ]
  },
  {
   "cell_type": "code",
   "execution_count": null,
   "id": "75bfd82b",
   "metadata": {},
   "outputs": [
    {
     "name": "stdout",
     "output_type": "stream",
     "text": [
      "Lista original: ['GOT', 'House_of_dragon', 'Friends', 'Black_mirror', 'Squid_game']\n",
      "5\n"
     ]
    }
   ],
   "source": [
    "Lista_series = [\"GOT\", \"House_of_dragon\", \"Friends\", \"Black_mirror\", \"Squid_game\"]\n",
    "print(f\"Lista original: {Lista_series}\")\n",
    "\n",
    "\n",
    "#Agregar un elemento\n",
    "Lista_series.append(\"The_last_of_us\")\n",
    "print(f\"Se agrego un nuevo elemento en la posicion 6: {Lista_series}\")\n",
    "\n",
    "#Modificar \n",
    "Lista_series[1] = \"The_walking_dead\"\n",
    "print(f\"Se modifico el elemento de la posicion 2: {Lista_series}\")\n",
    "\n",
    "# Eliminar el segundo elemento\n",
    "Lista_series.pop(2)\n",
    "print(f\"Se elimino elemento de la posicion 2: {Lista_series}\")\n"
   ]
  },
  {
   "cell_type": "markdown",
   "id": "6d8d2877",
   "metadata": {},
   "source": [
    "## Challenge 🤺 - 20m\n",
    "Escribir un programa que itere en un rango de 10 veces. Por cada iteracion multiplicar el iterador por dos e imprimir el resultado."
   ]
  },
  {
   "cell_type": "code",
   "execution_count": 59,
   "id": "9a6c5656",
   "metadata": {},
   "outputs": [
    {
     "name": "stdout",
     "output_type": "stream",
     "text": [
      "Numero de ciclo: 0 * 2 = 0\n",
      "Numero de ciclo: 1 * 2 = 2\n",
      "Numero de ciclo: 2 * 2 = 4\n",
      "Numero de ciclo: 3 * 2 = 6\n",
      "Numero de ciclo: 4 * 2 = 8\n",
      "Numero de ciclo: 5 * 2 = 10\n",
      "Numero de ciclo: 6 * 2 = 12\n",
      "Numero de ciclo: 7 * 2 = 14\n",
      "Numero de ciclo: 8 * 2 = 16\n",
      "Numero de ciclo: 9 * 2 = 18\n"
     ]
    }
   ],
   "source": [
    "for numero_de_ciclo in range(10):\n",
    "    print(f\"Numero de ciclo: {numero_de_ciclo} * 2 = {numero_de_ciclo*2}\")"
   ]
  },
  {
   "cell_type": "markdown",
   "id": "273c8707",
   "metadata": {},
   "source": [
    "## Challenge\n",
    "Recorrer los elementos de una lista de marcas e imprimir cada marca solamente si tiene 6 letras o más."
   ]
  },
  {
   "cell_type": "code",
   "execution_count": null,
   "id": "7eb36c49",
   "metadata": {},
   "outputs": [
    {
     "name": "stdout",
     "output_type": "stream",
     "text": [
      "Toyota\n",
      "Mercedez\n",
      "Nissan\n"
     ]
    }
   ],
   "source": [
    "\n",
    "lista_marcas =[\"Toyota\", \"Mercedez\", \"Kia\", \"Nissan\", \"Mazda\"]\n",
    "\n",
    "for i in lista_marcas:\n",
    "    cantidad_de_caracteres = len(i)\n",
    "    if cantidad_de_caracteres >= 6:\n",
    "        print(i)\n",
    "\n"
   ]
  },
  {
   "cell_type": "markdown",
   "id": "47716869",
   "metadata": {},
   "source": [
    "## Challenge\n",
    "Solicitar al usuario que ingrese una frase.\n",
    "\n",
    "Imprimir un mensaje cada vez que se encuentre una letra \"o\"."
   ]
  },
  {
   "cell_type": "code",
   "execution_count": 76,
   "id": "e8b00b7f",
   "metadata": {},
   "outputs": [
    {
     "name": "stdout",
     "output_type": "stream",
     "text": [
      "La frase que se ingreso es: oso mimoso\n",
      "Se encontro una o\n",
      "Se encontro una o\n",
      "Se encontro una o\n",
      "Se encontro una o\n"
     ]
    }
   ],
   "source": [
    "frase = input(\"Ingrese una frase\")\n",
    "print(f\"La frase que se ingreso es: {frase}\")\n",
    "\n",
    "for caracter in frase:\n",
    "     if caracter == \"o\":\n",
    "          print(\"Se encontro una o\")"
   ]
  }
 ],
 "metadata": {
  "kernelspec": {
   "display_name": "Python 3",
   "language": "python",
   "name": "python3"
  },
  "language_info": {
   "codemirror_mode": {
    "name": "ipython",
    "version": 3
   },
   "file_extension": ".py",
   "mimetype": "text/x-python",
   "name": "python",
   "nbconvert_exporter": "python",
   "pygments_lexer": "ipython3",
   "version": "3.11.6"
  }
 },
 "nbformat": 4,
 "nbformat_minor": 5
}
